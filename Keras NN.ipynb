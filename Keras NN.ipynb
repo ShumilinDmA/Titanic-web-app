{
 "cells": [
  {
   "cell_type": "markdown",
   "metadata": {},
   "source": [
    "### Импорт библиотек"
   ]
  },
  {
   "cell_type": "code",
   "execution_count": 1,
   "metadata": {},
   "outputs": [
    {
     "name": "stderr",
     "output_type": "stream",
     "text": [
      "C:\\Users\\Dmitry\\anaconda3\\lib\\site-packages\\sklearn\\utils\\deprecation.py:143: FutureWarning: The sklearn.metrics.scorer module is  deprecated in version 0.22 and will be removed in version 0.24. The corresponding classes / functions should instead be imported from sklearn.metrics. Anything that cannot be imported from sklearn.metrics is now part of the private API.\n",
      "  warnings.warn(message, FutureWarning)\n",
      "C:\\Users\\Dmitry\\anaconda3\\lib\\site-packages\\sklearn\\utils\\deprecation.py:143: FutureWarning: The sklearn.feature_selection.base module is  deprecated in version 0.22 and will be removed in version 0.24. The corresponding classes / functions should instead be imported from sklearn.feature_selection. Anything that cannot be imported from sklearn.feature_selection is now part of the private API.\n",
      "  warnings.warn(message, FutureWarning)\n"
     ]
    }
   ],
   "source": [
    "# data anlysis\n",
    "import numpy as np\n",
    "import pandas as pd\n",
    "\n",
    "# data visualization\n",
    "%matplotlib inline\n",
    "import matplotlib as mpl\n",
    "import matplotlib.pyplot as plt\n",
    "import seaborn as sns\n",
    "\n",
    "# data preparation for modelling\n",
    "from sklearn.preprocessing import OneHotEncoder\n",
    "from sklearn.model_selection import GridSearchCV\n",
    "from sklearn.feature_selection import SelectFromModel\n",
    "from scikitplot.metrics import plot_confusion_matrix\n",
    "from sklearn.metrics import precision_score, recall_score, f1_score, accuracy_score, roc_auc_score\n",
    "\n",
    "# Artificial Neural Network\n",
    "import tensorflow as tf\n",
    "from tensorflow import keras\n",
    "from tensorflow.keras.wrappers.scikit_learn import KerasClassifier\n",
    "from tensorflow.keras.models import Sequential\n",
    "from tensorflow.keras.utils import plot_model\n",
    "from tensorflow.keras.layers import Input, Dense, Dropout, AlphaDropout\n",
    "from tensorflow.keras.optimizers import SGD, RMSprop, Adamax, Adagrad, Adam, Nadam\n",
    "from eli5.sklearn import PermutationImportance\n",
    "\n",
    "from tqdm import tqdm\n",
    "\n",
    "np.random.seed(42)"
   ]
  },
  {
   "cell_type": "markdown",
   "metadata": {},
   "source": [
    "Подгрузим оффициальные данные"
   ]
  },
  {
   "cell_type": "code",
   "execution_count": 2,
   "metadata": {},
   "outputs": [],
   "source": [
    "# load train and test data\n",
    "train = pd.read_csv('data/kaggle/train.csv')\n",
    "test = pd.read_csv('data/kaggle/test.csv')\n",
    "\n",
    "TRAIN_SIZE = len(train['Survived'])\n",
    "\n",
    "# merge train and test data for common data processingg\n",
    "data = pd.concat([train, test], axis=0, ignore_index=True)"
   ]
  },
  {
   "cell_type": "markdown",
   "metadata": {},
   "source": [
    "### Feature Engineering"
   ]
  },
  {
   "cell_type": "markdown",
   "metadata": {},
   "source": [
    "Создание категорий по возрасту, дети выживают чаще"
   ]
  },
  {
   "cell_type": "code",
   "execution_count": 3,
   "metadata": {},
   "outputs": [],
   "source": [
    "train[\"AgeCat\"]= pd.cut(train[\"Age\"], bins=[0,15,max(train[\"Age\"]+1)], labels=['child','adult'])"
   ]
  },
  {
   "cell_type": "markdown",
   "metadata": {},
   "source": [
    "Создание категорий по расходам на билеты. Посколку настоящие расходы не известны, а только на семью, объединим информацию по группам."
   ]
  },
  {
   "cell_type": "code",
   "execution_count": 4,
   "metadata": {},
   "outputs": [
    {
     "name": "stdout",
     "output_type": "stream",
     "text": [
      "     Ticket                                               Name  Pclass  Fare  \\\n",
      "257  110152                               Cherry, Miss. Gladys       1  86.5   \n",
      "504  110152                              Maioni, Miss. Roberta       1  86.5   \n",
      "759  110152  Rothes, the Countess. of (Lucy Noel Martha Dye...       1  86.5   \n",
      "\n",
      "     PassengerId  \n",
      "257          258  \n",
      "504          505  \n",
      "759          760  \n"
     ]
    }
   ],
   "source": [
    "# the code below finds person groups which share the same tickets and \n",
    "# devides the ticket fare by the number of people in the group\n",
    "train['FareCorr'] = train['Fare'].copy()\n",
    "\n",
    "m=0 # m=0 -> print first iteration as example how the code works\n",
    "for grp, grp_df in train[['Ticket', 'Name', 'Pclass', 'Fare', 'PassengerId']].groupby(['Ticket']):\n",
    "\n",
    "    if (len(grp_df) != 1):\n",
    "        if m==0:\n",
    "            print(grp_df)\n",
    "            m=1\n",
    "        for ind, row in grp_df.iterrows():\n",
    "            passID = row['PassengerId']\n",
    "            train.loc[train['PassengerId'] == passID, 'FareCorr'] = train['Fare'][train['PassengerId'] == passID]/len(grp_df)\n",
    "\n",
    "train['FareCat']=pd.cut(train['FareCorr'], bins=[0,15,65,max(train[\"FareCorr\"]+1)], labels=['low','mid','high'])"
   ]
  },
  {
   "cell_type": "markdown",
   "metadata": {},
   "source": [
    "Вытащим из имен титулы. Титулы могут характеризовать положение в обществе и потенциальный возраст человека, а это особенно важно, поскольку в графе возраста очень много пропусков."
   ]
  },
  {
   "cell_type": "code",
   "execution_count": 5,
   "metadata": {},
   "outputs": [
    {
     "data": {
      "text/plain": [
       "Mr        757\n",
       "Miss      264\n",
       "Mrs       198\n",
       "Master     61\n",
       "Others     23\n",
       "Noble       6\n",
       "Name: Title, dtype: int64"
      ]
     },
     "execution_count": 5,
     "metadata": {},
     "output_type": "execute_result"
    }
   ],
   "source": [
    "# extracting the Title (which always ends with a \".\")\n",
    "for name_string in data['Name']:\n",
    "    data['Title'] = data['Name'].str.extract('([A-Za-z]+)\\.', expand=True)\n",
    "\n",
    "#transform titles which are synonyms\n",
    "data['Title']=data['Title'].replace({'Ms':'Miss','Mlle':'Miss','Mme':'Mrs'})\n",
    "\n",
    "# Noble passengers\n",
    "data['Title']=data['Title'].replace(['Sir','Don','Dona','Jonkheer','Lady','Countess'], 'Noble')\n",
    "\n",
    "# passengers with a higher social standing\n",
    "data['Title']=data['Title'].replace(['Dr', 'Rev','Col','Major','Capt'], 'Others')\n",
    "\n",
    "data['Title'].value_counts()"
   ]
  },
  {
   "cell_type": "markdown",
   "metadata": {},
   "source": [
    "Заполним пропуски в возрасте основываясь на титуле, возрасте похожих по титулу людей."
   ]
  },
  {
   "cell_type": "code",
   "execution_count": 6,
   "metadata": {},
   "outputs": [],
   "source": [
    "title_list=data.groupby('Title')['Age'].median().index.to_list()\n",
    "# Filling missing age values \n",
    "for title in title_list:\n",
    "    if title=='Miss':\n",
    "        # Miss with Parch = 0 and missing age value: set median age >15 to missing values\n",
    "        data.loc[(data['Age'].isnull()) & (data['Title'] == title) & (data['Parch'] == 0), 'Age'] \\\n",
    "        = data['Age'][(data['Title']== title) & (data['Age']>=15)].median()\n",
    "        \n",
    "        # Miss with Parch > 0 and missing age value: set median age <15 to missing values\n",
    "        data.loc[(data['Age'].isnull()) & (data['Title'] == title) & (data['Parch'] > 0), 'Age'] \\\n",
    "        = data['Age'][(data['Title']== title) & (data['Age']<15)].median()\n",
    "        \n",
    "        # all Misses with Age < 15: set Title to youngMiss \n",
    "        data.loc[(data['Age']<15) & (data['Title'] == title), 'Title'] \\\n",
    "        = 'youngMiss'    \n",
    "                                                 \n",
    "    else: \n",
    "        data.loc[(data['Age'].isnull()) & (data['Title'] == title), 'Age'] \\\n",
    "        = data['Age'][(data['Title']== title)].median()"
   ]
  },
  {
   "cell_type": "markdown",
   "metadata": {},
   "source": [
    "Поскольку мы заполнили величину возраста похожими на ground true величинами, но не абсолютно точными, объединим людей в возрастные группы."
   ]
  },
  {
   "cell_type": "code",
   "execution_count": 7,
   "metadata": {},
   "outputs": [
    {
     "data": {
      "text/plain": [
       "2    717\n",
       "3    309\n",
       "1    127\n",
       "4    123\n",
       "5     33\n",
       "Name: AgeCat, dtype: int64"
      ]
     },
     "execution_count": 7,
     "metadata": {},
     "output_type": "execute_result"
    }
   ],
   "source": [
    "# We split the feature Age in five categories, where category 1 refers to children (age<15)\n",
    "data[\"AgeCat\"]= pd.cut(data[\"Age\"], bins=[0,14.9,30,45,60,max(data[\"Age\"]+1)], labels=['1','2','3','4','5'])\n",
    "\n",
    "# size of each category\n",
    "data['AgeCat'].value_counts()"
   ]
  },
  {
   "cell_type": "markdown",
   "metadata": {},
   "source": [
    "Создадим категории отвечающие за размер семьи на борту"
   ]
  },
  {
   "cell_type": "code",
   "execution_count": 8,
   "metadata": {},
   "outputs": [],
   "source": [
    "# create feature FamilySize\n",
    "data.loc[data['SibSp'] + data['Parch'] + 1 == 1, 'FamilySize'] = 'Single'\n",
    "data.loc[data['SibSp'] + data['Parch'] + 1 > 1 , 'FamilySize'] = 'Small'\n",
    "data.loc[data['SibSp'] + data['Parch'] + 1 > 4 , 'FamilySize'] = 'Big'"
   ]
  },
  {
   "cell_type": "code",
   "execution_count": 9,
   "metadata": {},
   "outputs": [
    {
     "data": {
      "text/plain": [
       "Andersson    11\n",
       "Sage         11\n",
       "Goodwin       8\n",
       "Asplund       8\n",
       "Davies        7\n",
       "             ..\n",
       "Payne         1\n",
       "Gallagher     1\n",
       "Shawah        1\n",
       "Brady         1\n",
       "Mockler       1\n",
       "Name: Last_Name, Length: 872, dtype: int64"
      ]
     },
     "execution_count": 9,
     "metadata": {},
     "output_type": "execute_result"
    }
   ],
   "source": [
    "# extract last names\n",
    "#data['Last_Name'] = data['Name'].apply(lambda x: str.split(x, \",\")[0])\n",
    "data['Last_Name'] =  data['Name'].str.extract('([A-Za-z]+),', expand=True)\n",
    "data['Last_Name'].value_counts()\n",
    "#data.groupby('Last_Name')"
   ]
  },
  {
   "cell_type": "markdown",
   "metadata": {},
   "source": [
    "Попытаемся ввести дополнительную информацию из трейна через фамилии людей, есть ли погибшие среди их семьи"
   ]
  },
  {
   "cell_type": "code",
   "execution_count": 11,
   "metadata": {},
   "outputs": [
    {
     "data": {
      "text/plain": [
       "0.5    656\n",
       "1.0    376\n",
       "0.0    277\n",
       "Name: FamilySurvival, dtype: int64"
      ]
     },
     "execution_count": 11,
     "metadata": {},
     "output_type": "execute_result"
    }
   ],
   "source": [
    "data['Last_Name'] = data['Name'].apply(lambda x: str.split(x, \",\")[0])\n",
    "default_value = 0.5\n",
    "\n",
    "data['FamilySurvival'] = default_value\n",
    "for grp, grp_df in data[['Survived', 'Last_Name', 'Ticket', 'PassengerId']].groupby(['Last_Name']):\n",
    "    \n",
    "    if (len(grp_df) != 1):\n",
    "        # A Family group is found.\n",
    "        for ind, row in grp_df.iterrows():\n",
    "            smax = grp_df.drop(ind)['Survived'].max()\n",
    "            smin = grp_df.drop(ind)['Survived'].min()\n",
    "            passID = row['PassengerId']\n",
    "            if (smax == 1.0):\n",
    "                data.loc[data['PassengerId'] == passID, 'FamilySurvival'] = 1\n",
    "            elif (smin == 0.0):\n",
    "                data.loc[data['PassengerId'] == passID, 'FamilySurvival'] = 0\n",
    "    \n",
    "for _, grp_df in data.groupby('Ticket'):\n",
    "    if (len(grp_df) != 1):\n",
    "        #print(grp_df)\n",
    "        for ind, row in grp_df.iterrows():\n",
    "            if (row['FamilySurvival'] == 0) | (row['FamilySurvival']== 0.5):\n",
    "                smax = grp_df.drop(ind)['Survived'].max()\n",
    "                smin = grp_df.drop(ind)['Survived'].min()\n",
    "                passID = row['PassengerId']\n",
    "                if (smax == 1.0):\n",
    "                    data.loc[data['PassengerId'] == passID, 'FamilySurvival'] = 1\n",
    "                elif (smin == 0.0):\n",
    "                    data.loc[data['PassengerId'] == passID, 'FamilySurvival'] = 0\n",
    "\n",
    "data['FamilySurvival'].value_counts()    "
   ]
  },
  {
   "cell_type": "code",
   "execution_count": 12,
   "metadata": {},
   "outputs": [],
   "source": [
    "data['FareCorr'] = data['Fare'].copy()\n",
    "\n",
    "for grp, grp_df in data[['Ticket','Name', 'Pclass', 'Fare', 'PassengerId']].groupby(['Ticket']):\n",
    "\n",
    "    if (len(grp_df) != 1):\n",
    "        for ind, row in grp_df.iterrows():\n",
    "            passID = row['PassengerId']\n",
    "            data.loc[data['PassengerId'] == passID, 'FareCorr'] = data['Fare'][data['PassengerId'] == passID]/len(grp_df)"
   ]
  },
  {
   "cell_type": "code",
   "execution_count": 13,
   "metadata": {},
   "outputs": [],
   "source": [
    "fa = data[data[\"Pclass\"] == 3]\n",
    "data['FareCorr'].fillna(fa['FareCorr'].median(), inplace = True)\n",
    "# data.info()"
   ]
  },
  {
   "cell_type": "code",
   "execution_count": 57,
   "metadata": {},
   "outputs": [
    {
     "data": {
      "text/plain": [
       "[(7.0, 7.75], (27.721, 128.082], (7.75, 7.925], (13.0, 27.721], (7.925, 9.588], (-0.001, 7.0], (9.588, 13.0]]\n",
       "Categories (7, interval[float64]): [(-0.001, 7.0] < (7.0, 7.75] < (7.75, 7.925] < (7.925, 9.588] < (9.588, 13.0] < (13.0, 27.721] < (27.721, 128.082]]"
      ]
     },
     "execution_count": 57,
     "metadata": {},
     "output_type": "execute_result"
    }
   ],
   "source": [
    "pd.qcut(data['FareCorr'], 7).unique()"
   ]
  },
  {
   "cell_type": "code",
   "execution_count": 14,
   "metadata": {},
   "outputs": [
    {
     "data": {
      "text/plain": [
       "2    236\n",
       "5    212\n",
       "1    188\n",
       "7    186\n",
       "4    167\n",
       "6    162\n",
       "3    158\n",
       "Name: FareCat, dtype: int64"
      ]
     },
     "execution_count": 14,
     "metadata": {},
     "output_type": "execute_result"
    }
   ],
   "source": [
    "data['FareCat']=pd.qcut(data['FareCorr'], 7, labels=['1','2','3','4','5','6','7'])\n",
    "data['FareCat'].value_counts()"
   ]
  },
  {
   "cell_type": "code",
   "execution_count": 15,
   "metadata": {},
   "outputs": [],
   "source": [
    "data['Embarked'].fillna('C', inplace = True)"
   ]
  },
  {
   "cell_type": "code",
   "execution_count": 16,
   "metadata": {},
   "outputs": [
    {
     "name": "stdout",
     "output_type": "stream",
     "text": [
      "<class 'pandas.core.frame.DataFrame'>\n",
      "RangeIndex: 1309 entries, 0 to 1308\n",
      "Data columns (total 19 columns):\n",
      " #   Column          Non-Null Count  Dtype   \n",
      "---  ------          --------------  -----   \n",
      " 0   PassengerId     1309 non-null   int64   \n",
      " 1   Survived        891 non-null    float64 \n",
      " 2   Pclass          1309 non-null   int64   \n",
      " 3   Name            1309 non-null   object  \n",
      " 4   Sex             1309 non-null   object  \n",
      " 5   Age             1309 non-null   float64 \n",
      " 6   SibSp           1309 non-null   int64   \n",
      " 7   Parch           1309 non-null   int64   \n",
      " 8   Ticket          1309 non-null   object  \n",
      " 9   Fare            1308 non-null   float64 \n",
      " 10  Cabin           295 non-null    object  \n",
      " 11  Embarked        1309 non-null   object  \n",
      " 12  Title           1309 non-null   object  \n",
      " 13  AgeCat          1309 non-null   category\n",
      " 14  FamilySize      1309 non-null   object  \n",
      " 15  Last_Name       1309 non-null   object  \n",
      " 16  FamilySurvival  1309 non-null   float64 \n",
      " 17  FareCorr        1309 non-null   float64 \n",
      " 18  FareCat         1309 non-null   category\n",
      "dtypes: category(2), float64(5), int64(4), object(8)\n",
      "memory usage: 177.1+ KB\n"
     ]
    }
   ],
   "source": [
    "data.info()"
   ]
  },
  {
   "cell_type": "markdown",
   "metadata": {},
   "source": [
    "### Подготовка информации к моделированию"
   ]
  },
  {
   "cell_type": "code",
   "execution_count": 17,
   "metadata": {},
   "outputs": [],
   "source": [
    "data_pre = data.drop(['Embarked','Survived','PassengerId','Name','Age','Parch','SibSp','Ticket','Fare','Cabin','Last_Name','FareCorr'],axis=1)"
   ]
  },
  {
   "cell_type": "code",
   "execution_count": 18,
   "metadata": {},
   "outputs": [
    {
     "data": {
      "text/html": [
       "<div>\n",
       "<style scoped>\n",
       "    .dataframe tbody tr th:only-of-type {\n",
       "        vertical-align: middle;\n",
       "    }\n",
       "\n",
       "    .dataframe tbody tr th {\n",
       "        vertical-align: top;\n",
       "    }\n",
       "\n",
       "    .dataframe thead th {\n",
       "        text-align: right;\n",
       "    }\n",
       "</style>\n",
       "<table border=\"1\" class=\"dataframe\">\n",
       "  <thead>\n",
       "    <tr style=\"text-align: right;\">\n",
       "      <th></th>\n",
       "      <th>Pclass</th>\n",
       "      <th>Sex</th>\n",
       "      <th>Title</th>\n",
       "      <th>AgeCat</th>\n",
       "      <th>FamilySize</th>\n",
       "      <th>FamilySurvival</th>\n",
       "      <th>FareCat</th>\n",
       "    </tr>\n",
       "  </thead>\n",
       "  <tbody>\n",
       "    <tr>\n",
       "      <th>0</th>\n",
       "      <td>3</td>\n",
       "      <td>male</td>\n",
       "      <td>Mr</td>\n",
       "      <td>2</td>\n",
       "      <td>Small</td>\n",
       "      <td>0.0</td>\n",
       "      <td>2</td>\n",
       "    </tr>\n",
       "    <tr>\n",
       "      <th>1</th>\n",
       "      <td>1</td>\n",
       "      <td>female</td>\n",
       "      <td>Mrs</td>\n",
       "      <td>3</td>\n",
       "      <td>Small</td>\n",
       "      <td>0.5</td>\n",
       "      <td>7</td>\n",
       "    </tr>\n",
       "    <tr>\n",
       "      <th>2</th>\n",
       "      <td>3</td>\n",
       "      <td>female</td>\n",
       "      <td>Miss</td>\n",
       "      <td>2</td>\n",
       "      <td>Single</td>\n",
       "      <td>0.5</td>\n",
       "      <td>3</td>\n",
       "    </tr>\n",
       "    <tr>\n",
       "      <th>3</th>\n",
       "      <td>1</td>\n",
       "      <td>female</td>\n",
       "      <td>Mrs</td>\n",
       "      <td>3</td>\n",
       "      <td>Small</td>\n",
       "      <td>0.0</td>\n",
       "      <td>6</td>\n",
       "    </tr>\n",
       "    <tr>\n",
       "      <th>4</th>\n",
       "      <td>3</td>\n",
       "      <td>male</td>\n",
       "      <td>Mr</td>\n",
       "      <td>3</td>\n",
       "      <td>Single</td>\n",
       "      <td>1.0</td>\n",
       "      <td>4</td>\n",
       "    </tr>\n",
       "    <tr>\n",
       "      <th>...</th>\n",
       "      <td>...</td>\n",
       "      <td>...</td>\n",
       "      <td>...</td>\n",
       "      <td>...</td>\n",
       "      <td>...</td>\n",
       "      <td>...</td>\n",
       "      <td>...</td>\n",
       "    </tr>\n",
       "    <tr>\n",
       "      <th>1304</th>\n",
       "      <td>3</td>\n",
       "      <td>male</td>\n",
       "      <td>Mr</td>\n",
       "      <td>2</td>\n",
       "      <td>Single</td>\n",
       "      <td>0.5</td>\n",
       "      <td>4</td>\n",
       "    </tr>\n",
       "    <tr>\n",
       "      <th>1305</th>\n",
       "      <td>1</td>\n",
       "      <td>female</td>\n",
       "      <td>Noble</td>\n",
       "      <td>3</td>\n",
       "      <td>Single</td>\n",
       "      <td>1.0</td>\n",
       "      <td>7</td>\n",
       "    </tr>\n",
       "    <tr>\n",
       "      <th>1306</th>\n",
       "      <td>3</td>\n",
       "      <td>male</td>\n",
       "      <td>Mr</td>\n",
       "      <td>3</td>\n",
       "      <td>Single</td>\n",
       "      <td>0.5</td>\n",
       "      <td>2</td>\n",
       "    </tr>\n",
       "    <tr>\n",
       "      <th>1307</th>\n",
       "      <td>3</td>\n",
       "      <td>male</td>\n",
       "      <td>Mr</td>\n",
       "      <td>2</td>\n",
       "      <td>Single</td>\n",
       "      <td>0.5</td>\n",
       "      <td>4</td>\n",
       "    </tr>\n",
       "    <tr>\n",
       "      <th>1308</th>\n",
       "      <td>3</td>\n",
       "      <td>male</td>\n",
       "      <td>Master</td>\n",
       "      <td>1</td>\n",
       "      <td>Small</td>\n",
       "      <td>1.0</td>\n",
       "      <td>2</td>\n",
       "    </tr>\n",
       "  </tbody>\n",
       "</table>\n",
       "<p>1309 rows × 7 columns</p>\n",
       "</div>"
      ],
      "text/plain": [
       "      Pclass     Sex   Title AgeCat FamilySize  FamilySurvival FareCat\n",
       "0          3    male      Mr      2      Small             0.0       2\n",
       "1          1  female     Mrs      3      Small             0.5       7\n",
       "2          3  female    Miss      2     Single             0.5       3\n",
       "3          1  female     Mrs      3      Small             0.0       6\n",
       "4          3    male      Mr      3     Single             1.0       4\n",
       "...      ...     ...     ...    ...        ...             ...     ...\n",
       "1304       3    male      Mr      2     Single             0.5       4\n",
       "1305       1  female   Noble      3     Single             1.0       7\n",
       "1306       3    male      Mr      3     Single             0.5       2\n",
       "1307       3    male      Mr      2     Single             0.5       4\n",
       "1308       3    male  Master      1      Small             1.0       2\n",
       "\n",
       "[1309 rows x 7 columns]"
      ]
     },
     "execution_count": 18,
     "metadata": {},
     "output_type": "execute_result"
    }
   ],
   "source": [
    "data_pre"
   ]
  },
  {
   "cell_type": "code",
   "execution_count": 19,
   "metadata": {},
   "outputs": [
    {
     "data": {
      "text/plain": [
       "array(['Pclass_1', 'Pclass_2', 'Pclass_3', 'Sex_female', 'Sex_male',\n",
       "       'Title_Master', 'Title_Miss', 'Title_Mr', 'Title_Mrs',\n",
       "       'Title_Noble', 'Title_Others', 'Title_youngMiss', 'AgeCat_1',\n",
       "       'AgeCat_2', 'AgeCat_3', 'AgeCat_4', 'AgeCat_5', 'FamilySize_Big',\n",
       "       'FamilySize_Single', 'FamilySize_Small', 'FamilySurvival_0.0',\n",
       "       'FamilySurvival_0.5', 'FamilySurvival_1.0', 'FareCat_1',\n",
       "       'FareCat_2', 'FareCat_3', 'FareCat_4', 'FareCat_5', 'FareCat_6',\n",
       "       'FareCat_7'], dtype=object)"
      ]
     },
     "execution_count": 19,
     "metadata": {},
     "output_type": "execute_result"
    }
   ],
   "source": [
    "oneHot=OneHotEncoder()\n",
    "data_post=oneHot.fit_transform(data_pre)\n",
    "\n",
    "feature_names = oneHot.get_feature_names(data_pre.columns)\n",
    "feature_names"
   ]
  },
  {
   "cell_type": "code",
   "execution_count": 21,
   "metadata": {},
   "outputs": [],
   "source": [
    "# training data\n",
    "X_train = data_post[:TRAIN_SIZE,:].toarray()\n",
    "y_train = train['Survived'].copy().to_numpy()   # traget\n",
    "\n",
    "# test data\n",
    "X_test = data_post[TRAIN_SIZE:,:].toarray()"
   ]
  },
  {
   "cell_type": "code",
   "execution_count": 22,
   "metadata": {},
   "outputs": [
    {
     "name": "stdout",
     "output_type": "stream",
     "text": [
      "# instances: 891\n",
      "# features: 30\n"
     ]
    }
   ],
   "source": [
    "# check shape of X_train - number of instances and features\n",
    "print('# instances: '+ str(X_train.shape[0]))\n",
    "print('# features: '+ str(X_train.shape[1]))"
   ]
  },
  {
   "cell_type": "markdown",
   "metadata": {},
   "source": [
    "### Cоздание базовой модели"
   ]
  },
  {
   "cell_type": "code",
   "execution_count": 23,
   "metadata": {},
   "outputs": [],
   "source": [
    "# define functions\n",
    "def hyperparameter_analysis(searcher, top_values=5):\n",
    "    tested_hyperparameters=pd.DataFrame()\n",
    "    for i in range(len(searcher.cv_results_['params'])):\n",
    "        tested_hyperparameters = tested_hyperparameters.append(searcher.cv_results_['params'][i], ignore_index=True)\n",
    "    tested_hyperparameters['train score in %']=(searcher.cv_results_['mean_train_score']*100).round(3)\n",
    "    tested_hyperparameters['test score in %']=(searcher.cv_results_['mean_test_score']*100).round(3)\n",
    "    tested_hyperparameters['test std in %']=(searcher.cv_results_['std_test_score']*100).round(3)\n",
    "    tested_hyperparameters.index=searcher.cv_results_['rank_test_score']\n",
    "    return(tested_hyperparameters.sort_index().head(top_values))\n",
    "\n",
    "\n",
    "def metric_scores(y_reference, y_prediction):\n",
    "    accuracy = accuracy_score(y_reference, y_prediction)\n",
    "    precision = precision_score(y_reference, y_prediction)\n",
    "    recall = recall_score(y_reference, y_prediction)\n",
    "    F1_score = f1_score(y_reference, y_prediction)\n",
    "    print('accuracy:' + str(accuracy.round(3)))\n",
    "    print('precision: '+ str(precision.round(3)))\n",
    "    print('recall: '+ str(recall.round(3)))\n",
    "    print('F1_score: '+ str(F1_score.round(3)))"
   ]
  },
  {
   "cell_type": "markdown",
   "metadata": {},
   "source": [
    "Создание функции модели для Wrapper'a"
   ]
  },
  {
   "cell_type": "code",
   "execution_count": 24,
   "metadata": {},
   "outputs": [],
   "source": [
    "def create_model(input_shape=X_train.shape[1:],\n",
    "                number_hidden=2, \n",
    "                neurons_per_hidden=10,\n",
    "                hidden_drop_rate= 0.2,\n",
    "                hidden_activation = 'selu',\n",
    "                hidden_initializer=\"lecun_normal\",\n",
    "                output_activation ='sigmoid',\n",
    "                loss='binary_crossentropy',\n",
    "#                 optimizer = Nadam(lr=0.0005),\n",
    "                optimizer = Nadam,\n",
    "                lr=0.0005,\n",
    "                ):\n",
    "    \n",
    "    #create model\n",
    "    model = Sequential()\n",
    "    model.add(Input(shape=input_shape)),\n",
    "    for layer in range(number_hidden):\n",
    "        model.add(Dense(neurons_per_hidden, activation = hidden_activation ,kernel_initializer=hidden_initializer))\n",
    "        #model.add(Dropout(hidden_drop_rate))\n",
    "    model.add(Dense(1, activation = output_activation))\n",
    "\n",
    "    # Compile model\n",
    "    model.compile(loss=loss, \n",
    "                  optimizer = optimizer(lr=lr), \n",
    "#                   optimizer = Nadam(lr=0.0005),\n",
    "                  metrics = ['accuracy', 'Recall'])\n",
    "    return model"
   ]
  },
  {
   "cell_type": "markdown",
   "metadata": {},
   "source": [
    "Обучим базовую нейросеть"
   ]
  },
  {
   "cell_type": "code",
   "execution_count": 25,
   "metadata": {},
   "outputs": [
    {
     "name": "stdout",
     "output_type": "stream",
     "text": [
      "Training score: 85.073 %\n"
     ]
    }
   ],
   "source": [
    "keras.backend.clear_session()\n",
    "np.random.seed(42)\n",
    "tf.random.set_seed(42)\n",
    "\n",
    "# build and compile ANN classifier by calling the model function\n",
    "clf=create_model()\n",
    "\n",
    "# train the ANN classifier\n",
    "history = clf.fit(X_train, y_train, epochs=30, batch_size=30, verbose=0)\n",
    "print(f'Training score: {(np.max((history.history[\"accuracy\"]))*100).round(3)} %')"
   ]
  },
  {
   "cell_type": "code",
   "execution_count": 26,
   "metadata": {},
   "outputs": [
    {
     "name": "stdout",
     "output_type": "stream",
     "text": [
      "WARNING:tensorflow:From <ipython-input-26-6a8e0c2ed102>:1: Sequential.predict_classes (from tensorflow.python.keras.engine.sequential) is deprecated and will be removed after 2021-01-01.\n",
      "Instructions for updating:\n",
      "Please use instead:* `np.argmax(model.predict(x), axis=-1)`,   if your model does multi-class classification   (e.g. if it uses a `softmax` last-layer activation).* `(model.predict(x) > 0.5).astype(\"int32\")`,   if your model does binary classification   (e.g. if it uses a `sigmoid` last-layer activation).\n",
      "accuracy:0.844\n",
      "precision: 0.828\n",
      "recall: 0.749\n",
      "F1_score: 0.786\n"
     ]
    },
    {
     "data": {
      "image/png": "[encoded data removed]",
      "text/plain": [
       "<Figure size 432x288 with 2 Axes>"
      ]
     },
     "metadata": {
      "needs_background": "light"
     },
     "output_type": "display_data"
    }
   ],
   "source": [
    "y_train_pred = clf.predict_classes(X_train)\n",
    "y_test_pred = clf.predict_classes(X_test)\n",
    "\n",
    "plot_confusion_matrix(y_true=y_train, y_pred = y_train_pred)\n",
    "\n",
    "metric_scores(y_train, y_train_pred)"
   ]
  },
  {
   "cell_type": "markdown",
   "metadata": {},
   "source": [
    "### Важность признаков датасета"
   ]
  },
  {
   "cell_type": "markdown",
   "metadata": {},
   "source": [
    "Обернем функцию модели в оболочку для совместимости с Sklearn"
   ]
  },
  {
   "cell_type": "code",
   "execution_count": 27,
   "metadata": {
    "scrolled": true
   },
   "outputs": [
    {
     "data": {
      "text/plain": [
       "<tensorflow.python.keras.callbacks.History at 0xe878391be0>"
      ]
     },
     "execution_count": 27,
     "metadata": {},
     "output_type": "execute_result"
    }
   ],
   "source": [
    "np.random.seed(42)\n",
    "tf.random.set_seed(42)\n",
    "\n",
    "# build and train KerasClassifier\n",
    "keras_clf=KerasClassifier(build_fn = create_model)\n",
    "keras_clf.fit(X_train, y_train, epochs=30, batch_size=30, verbose=0)"
   ]
  },
  {
   "cell_type": "markdown",
   "metadata": {},
   "source": [
    "Выполним оценку важности признаков перестановками через PermutationImportance."
   ]
  },
  {
   "cell_type": "code",
   "execution_count": 28,
   "metadata": {},
   "outputs": [
    {
     "data": {
      "text/plain": [
       "PermutationImportance(estimator=<tensorflow.python.keras.wrappers.scikit_learn.KerasClassifier object at 0x000000E878892BB0>,\n",
       "                      random_state=42, scoring='accuracy')"
      ]
     },
     "execution_count": 28,
     "metadata": {},
     "output_type": "execute_result"
    }
   ],
   "source": [
    "# calculate feature importance\n",
    "permutator = PermutationImportance(keras_clf, random_state=42, scoring = 'accuracy', cv = 'prefit')\n",
    "permutator.fit(X_train,y_train)"
   ]
  },
  {
   "cell_type": "markdown",
   "metadata": {},
   "source": [
    "Таблица важности признаков"
   ]
  },
  {
   "cell_type": "code",
   "execution_count": 29,
   "metadata": {},
   "outputs": [
    {
     "data": {
      "text/html": [
       "<div>\n",
       "<style scoped>\n",
       "    .dataframe tbody tr th:only-of-type {\n",
       "        vertical-align: middle;\n",
       "    }\n",
       "\n",
       "    .dataframe tbody tr th {\n",
       "        vertical-align: top;\n",
       "    }\n",
       "\n",
       "    .dataframe thead th {\n",
       "        text-align: right;\n",
       "    }\n",
       "</style>\n",
       "<table border=\"1\" class=\"dataframe\">\n",
       "  <thead>\n",
       "    <tr style=\"text-align: right;\">\n",
       "      <th></th>\n",
       "      <th>feature</th>\n",
       "      <th>importance</th>\n",
       "    </tr>\n",
       "  </thead>\n",
       "  <tbody>\n",
       "    <tr>\n",
       "      <th>7</th>\n",
       "      <td>Title_Mr</td>\n",
       "      <td>2.088</td>\n",
       "    </tr>\n",
       "    <tr>\n",
       "      <th>5</th>\n",
       "      <td>Title_Master</td>\n",
       "      <td>1.661</td>\n",
       "    </tr>\n",
       "    <tr>\n",
       "      <th>20</th>\n",
       "      <td>FamilySurvival_0.0</td>\n",
       "      <td>1.414</td>\n",
       "    </tr>\n",
       "    <tr>\n",
       "      <th>3</th>\n",
       "      <td>Sex_female</td>\n",
       "      <td>1.324</td>\n",
       "    </tr>\n",
       "    <tr>\n",
       "      <th>17</th>\n",
       "      <td>FamilySize_Big</td>\n",
       "      <td>1.100</td>\n",
       "    </tr>\n",
       "  </tbody>\n",
       "</table>\n",
       "</div>"
      ],
      "text/plain": [
       "               feature  importance\n",
       "7             Title_Mr       2.088\n",
       "5         Title_Master       1.661\n",
       "20  FamilySurvival_0.0       1.414\n",
       "3           Sex_female       1.324\n",
       "17      FamilySize_Big       1.100"
      ]
     },
     "execution_count": 29,
     "metadata": {},
     "output_type": "execute_result"
    }
   ],
   "source": [
    "(pd.DataFrame({'feature':feature_names, 'importance':(permutator.feature_importances_*100).round(3)})\n",
    " .sort_values('importance', ascending=False)).head()"
   ]
  },
  {
   "cell_type": "markdown",
   "metadata": {},
   "source": [
    "Выбор лучших признаков по отсечке. Модель должна иметь атрибут feature_importances_."
   ]
  },
  {
   "cell_type": "code",
   "execution_count": 30,
   "metadata": {},
   "outputs": [],
   "source": [
    "def select_best_feature(model, combine_data, train_size, number_feature, threshold):\n",
    "    \n",
    "    selected = SelectFromModel(model, threshold=threshold, max_features=number_feature, prefit=True)\n",
    "    best_festures_index=np.where(selected.get_support()==True)\n",
    "\n",
    "    # create training data with k selected features\n",
    "    X_train_best_features = combine_data[:train_size, best_festures_index[0]].copy()\n",
    "    # create test data with k selected features\n",
    "    X_test_best_features = combine_data[train_size:, best_festures_index[0]].copy()\n",
    "    return X_train_best_features, X_test_best_features"
   ]
  },
  {
   "cell_type": "code",
   "execution_count": 31,
   "metadata": {},
   "outputs": [],
   "source": [
    "X_train_best_feature, X_test_best_feature = select_best_feature(model = permutator,\n",
    "                                                                combine_data = data_post,\n",
    "                                                                train_size = TRAIN_SIZE,\n",
    "                                                                number_feature = 17,\n",
    "                                                                threshold = -np.inf)"
   ]
  },
  {
   "cell_type": "markdown",
   "metadata": {},
   "source": [
    "### Поиск гиперпараметров по сетке"
   ]
  },
  {
   "cell_type": "markdown",
   "metadata": {},
   "source": [
    "Выберем датасет для дальнейшего использования его для поиска гиперпараметров по сетке GridSearch"
   ]
  },
  {
   "cell_type": "code",
   "execution_count": 32,
   "metadata": {},
   "outputs": [],
   "source": [
    "def data_for_gridsearch(best_features = False):\n",
    "    if not best_features:\n",
    "        print(f'# of features in dataset: {X_train.shape[1]}')\n",
    "        return X_train.copy(), X_test.copy()\n",
    "    else:\n",
    "        print(f'# of features in dataset: {X_train_best_feature.shape[1]}')\n",
    "        return X_train_best_feature.copy, X_test_best_feature.copy()"
   ]
  },
  {
   "cell_type": "code",
   "execution_count": 33,
   "metadata": {},
   "outputs": [
    {
     "name": "stdout",
     "output_type": "stream",
     "text": [
      "# of features in dataset: 30\n"
     ]
    }
   ],
   "source": [
    "X_train_gridsearch, X_test_gridsearch = data_for_gridsearch(best_features = False)"
   ]
  },
  {
   "cell_type": "code",
   "execution_count": 34,
   "metadata": {},
   "outputs": [
    {
     "data": {
      "text/plain": [
       "GridSearchCV(cv=5,\n",
       "             estimator=<tensorflow.python.keras.wrappers.scikit_learn.KerasClassifier object at 0x000000E87BF9D9A0>,\n",
       "             n_jobs=-1, param_grid={'input_shape': (30,)},\n",
       "             return_train_score=True)"
      ]
     },
     "execution_count": 34,
     "metadata": {},
     "output_type": "execute_result"
    }
   ],
   "source": [
    "keras.backend.clear_session()\n",
    "np.random.seed(42)\n",
    "tf.random.set_seed(42)\n",
    "\n",
    "# build classifier\n",
    "keras_grid_search = KerasClassifier(build_fn = create_model, verbose = 0)\n",
    "\n",
    "# define parameter grid: \n",
    "# uncomment the parameters you want to optimize\n",
    "param_grid = {\n",
    "#     \"optimizer\": [SGD, RMSprop, Adamax, Adagrad, Adam, Nadam],\n",
    "#     \"lr\":[0.005,0.001,0.0005,0.0001],\n",
    "#     \"epochs\": [15, 30, 45, 60],\n",
    "#     \"batch_size\": [20,30,40],\n",
    "#     \"number_hidden\": [1, 2, 3],\n",
    "#     \"neurons_per_hidden\": [5, 10, 15],\n",
    "    'input_shape': X_train_gridsearch.shape[1:]  # keep this line\n",
    "}\n",
    "\n",
    "# build GridSearchCV model with ANN classifier\n",
    "grid_search = GridSearchCV(keras_grid_search, param_grid, cv=5, n_jobs=-1, verbose=0, return_train_score=True)\n",
    "\n",
    "# fit GridSearchCV model\n",
    "grid_search.fit(X_train_gridsearch, y_train,\n",
    "                epochs = 30, \n",
    "                batch_size = 30,\n",
    "                validation_split=0.2, shuffle=True,\n",
    "#               callbacks=[keras.callbacks.EarlyStopping(patience=8)]\n",
    "                )     "
   ]
  },
  {
   "cell_type": "code",
   "execution_count": 35,
   "metadata": {},
   "outputs": [
    {
     "name": "stdout",
     "output_type": "stream",
     "text": [
      "Mean train score = 84.428%, std = 0.776%\n",
      "Mean test score = 82.603%, std = 2.166%\n"
     ]
    }
   ],
   "source": [
    "mean_train = (grid_search.cv_results_[\"mean_train_score\"][0]*100).round(3)\n",
    "std_train = (grid_search.cv_results_[\"std_train_score\"][0]*100).round(3)\n",
    "mean_test = (grid_search.cv_results_[\"mean_test_score\"][0]*100).round(3)\n",
    "std_test = (grid_search.cv_results_[\"std_test_score\"][0]*100).round(3)\n",
    "print(f'Mean train score = {mean_train}%, std = {std_train}%')\n",
    "print(f'Mean test score = {mean_test}%, std = {std_test}%')"
   ]
  },
  {
   "cell_type": "markdown",
   "metadata": {},
   "source": [
    "Кривая обучения модели"
   ]
  },
  {
   "cell_type": "code",
   "execution_count": 36,
   "metadata": {},
   "outputs": [
    {
     "data": {
      "image/png": "[encoded data removed]",
      "text/plain": [
       "<Figure size 432x288 with 1 Axes>"
      ]
     },
     "metadata": {
      "needs_background": "light"
     },
     "output_type": "display_data"
    },
    {
     "name": "stdout",
     "output_type": "stream",
     "text": [
      "After tuning hyperparameters:\n",
      "accuracy:0.848\n",
      "precision: 0.842\n",
      "recall: 0.746\n",
      "F1_score: 0.791\n",
      "\n",
      "\n",
      "Before tuning hyperparameters:\n",
      "accuracy:0.844\n",
      "precision: 0.828\n",
      "recall: 0.749\n",
      "F1_score: 0.786\n"
     ]
    }
   ],
   "source": [
    "def learning_curve(seacher):\n",
    "    # summarize history for accuracy\n",
    "    plt.plot(seacher.best_estimator_.model.history.history['accuracy'], color='red')\n",
    "    plt.plot(seacher.best_estimator_.model.history.history['val_accuracy'], color='green')\n",
    "    plt.plot(seacher.best_estimator_.model.history.history['loss'], color='red')\n",
    "    plt.plot(seacher.best_estimator_.model.history.history['val_loss'], color='green')\n",
    "    plt.plot(seacher.best_estimator_.model.history.history['recall'], color='red')\n",
    "    plt.plot(seacher.best_estimator_.model.history.history['val_recall'], color='green')\n",
    "    plt.title('model accuracy')\n",
    "    plt.ylabel('accuracy')\n",
    "    plt.xlabel('epochs')\n",
    "    plt.legend(['train accuracy/loss/recall', 'validation accuracy/loss/recall',], loc='best')\n",
    "    plt.show()\n",
    "\n",
    "learning_curve(grid_search)\n",
    "print('After tuning hyperparameters:')\n",
    "metric_scores(y_train, grid_search.best_estimator_.predict(X_train_gridsearch))\n",
    "print('\\n')\n",
    "print('Before tuning hyperparameters:')\n",
    "metric_scores(y_train, y_train_pred)"
   ]
  },
  {
   "cell_type": "code",
   "execution_count": 37,
   "metadata": {},
   "outputs": [
    {
     "data": {
      "text/html": [
       "<div>\n",
       "<style scoped>\n",
       "    .dataframe tbody tr th:only-of-type {\n",
       "        vertical-align: middle;\n",
       "    }\n",
       "\n",
       "    .dataframe tbody tr th {\n",
       "        vertical-align: top;\n",
       "    }\n",
       "\n",
       "    .dataframe thead th {\n",
       "        text-align: right;\n",
       "    }\n",
       "</style>\n",
       "<table border=\"1\" class=\"dataframe\">\n",
       "  <thead>\n",
       "    <tr style=\"text-align: right;\">\n",
       "      <th></th>\n",
       "      <th>hyperparameter</th>\n",
       "      <th>value</th>\n",
       "    </tr>\n",
       "  </thead>\n",
       "  <tbody>\n",
       "    <tr>\n",
       "      <th>0</th>\n",
       "      <td>input_shape</td>\n",
       "      <td>30</td>\n",
       "    </tr>\n",
       "  </tbody>\n",
       "</table>\n",
       "</div>"
      ],
      "text/plain": [
       "  hyperparameter  value\n",
       "0    input_shape     30"
      ]
     },
     "execution_count": 37,
     "metadata": {},
     "output_type": "execute_result"
    }
   ],
   "source": [
    "# set of optimized hyperparameters -> best model\n",
    "pd.DataFrame(grid_search.best_params_.items(), columns=['hyperparameter','value'])"
   ]
  },
  {
   "cell_type": "code",
   "execution_count": 38,
   "metadata": {},
   "outputs": [
    {
     "data": {
      "text/html": [
       "<div>\n",
       "<style scoped>\n",
       "    .dataframe tbody tr th:only-of-type {\n",
       "        vertical-align: middle;\n",
       "    }\n",
       "\n",
       "    .dataframe tbody tr th {\n",
       "        vertical-align: top;\n",
       "    }\n",
       "\n",
       "    .dataframe thead th {\n",
       "        text-align: right;\n",
       "    }\n",
       "</style>\n",
       "<table border=\"1\" class=\"dataframe\">\n",
       "  <thead>\n",
       "    <tr style=\"text-align: right;\">\n",
       "      <th></th>\n",
       "      <th>input_shape</th>\n",
       "      <th>train score in %</th>\n",
       "      <th>test score in %</th>\n",
       "      <th>test std in %</th>\n",
       "    </tr>\n",
       "  </thead>\n",
       "  <tbody>\n",
       "    <tr>\n",
       "      <th>1</th>\n",
       "      <td>30.0</td>\n",
       "      <td>84.428</td>\n",
       "      <td>82.603</td>\n",
       "      <td>2.166</td>\n",
       "    </tr>\n",
       "  </tbody>\n",
       "</table>\n",
       "</div>"
      ],
      "text/plain": [
       "   input_shape  train score in %  test score in %  test std in %\n",
       "1         30.0            84.428           82.603          2.166"
      ]
     },
     "execution_count": 38,
     "metadata": {},
     "output_type": "execute_result"
    }
   ],
   "source": [
    "# top 10 hyperparameter sets\n",
    "hyperparameter_analysis(grid_search, 10)"
   ]
  },
  {
   "cell_type": "code",
   "execution_count": 39,
   "metadata": {},
   "outputs": [],
   "source": [
    "# make predictions for X_test\n",
    "y_pred_dnn_opti = grid_search.best_estimator_.predict(X_test_gridsearch)"
   ]
  },
  {
   "cell_type": "code",
   "execution_count": 40,
   "metadata": {},
   "outputs": [
    {
     "data": {
      "text/html": [
       "<div>\n",
       "<style scoped>\n",
       "    .dataframe tbody tr th:only-of-type {\n",
       "        vertical-align: middle;\n",
       "    }\n",
       "\n",
       "    .dataframe tbody tr th {\n",
       "        vertical-align: top;\n",
       "    }\n",
       "\n",
       "    .dataframe thead th {\n",
       "        text-align: right;\n",
       "    }\n",
       "</style>\n",
       "<table border=\"1\" class=\"dataframe\">\n",
       "  <thead>\n",
       "    <tr style=\"text-align: right;\">\n",
       "      <th></th>\n",
       "      <th>PassengerId</th>\n",
       "      <th>Survived</th>\n",
       "    </tr>\n",
       "  </thead>\n",
       "  <tbody>\n",
       "    <tr>\n",
       "      <th>0</th>\n",
       "      <td>892</td>\n",
       "      <td>0</td>\n",
       "    </tr>\n",
       "    <tr>\n",
       "      <th>1</th>\n",
       "      <td>893</td>\n",
       "      <td>0</td>\n",
       "    </tr>\n",
       "    <tr>\n",
       "      <th>2</th>\n",
       "      <td>894</td>\n",
       "      <td>0</td>\n",
       "    </tr>\n",
       "    <tr>\n",
       "      <th>3</th>\n",
       "      <td>895</td>\n",
       "      <td>0</td>\n",
       "    </tr>\n",
       "    <tr>\n",
       "      <th>4</th>\n",
       "      <td>896</td>\n",
       "      <td>1</td>\n",
       "    </tr>\n",
       "  </tbody>\n",
       "</table>\n",
       "</div>"
      ],
      "text/plain": [
       "   PassengerId  Survived\n",
       "0          892         0\n",
       "1          893         0\n",
       "2          894         0\n",
       "3          895         0\n",
       "4          896         1"
      ]
     },
     "execution_count": 40,
     "metadata": {},
     "output_type": "execute_result"
    }
   ],
   "source": [
    "submission = pd.DataFrame({\n",
    "        \"PassengerId\": test[\"PassengerId\"],\n",
    "        \"Survived\": y_pred_dnn_opti.squeeze()\n",
    "    })\n",
    "submission.head()"
   ]
  },
  {
   "cell_type": "code",
   "execution_count": 41,
   "metadata": {},
   "outputs": [],
   "source": [
    "submission.to_csv('submissions/submission_Keras_4.csv', index=False)\n",
    "grid_search.best_estimator_.model.save('basemodel.hdf5')"
   ]
  },
  {
   "cell_type": "markdown",
   "metadata": {},
   "source": [
    "### Snapshot Ensembling"
   ]
  },
  {
   "cell_type": "code",
   "execution_count": 42,
   "metadata": {},
   "outputs": [],
   "source": [
    "from tensorflow.keras.callbacks import Callback\n",
    "from tensorflow.keras import backend\n",
    "from tensorflow.keras.models import load_model\n",
    "import math\n",
    "\n",
    "# this callback applies cosine annealing, saves snapshots and allows to load them\n",
    "class SnapshotEnsemble(Callback):\n",
    "    \n",
    "    __snapshot_name_fmt = \"snapshot_%d.hdf5\"\n",
    "    \n",
    "    def __init__(self, n_models, n_epochs_per_model, lr_max, verbose=1):\n",
    "        \"\"\"\n",
    "        n_models -- quantity of models (snapshots)\n",
    "        n_epochs_per_model -- quantity of epoch for every model (snapshot)\n",
    "        lr_max -- maximum learning rate (snapshot starter)\n",
    "        \"\"\"\n",
    "        self.n_epochs_per_model = n_epochs_per_model\n",
    "        self.n_models = n_models\n",
    "        self.n_epochs_total = self.n_models * self.n_epochs_per_model\n",
    "        self.lr_max = lr_max\n",
    "        self.verbose = verbose\n",
    "        self.lrs = []\n",
    " \n",
    "    # calculate learning rate for epoch\n",
    "    def cosine_annealing(self, epoch):\n",
    "        cos_inner = (math.pi * (epoch % self.n_epochs_per_model)) / self.n_epochs_per_model\n",
    "        return self.lr_max / 2 * (math.cos(cos_inner) + 1)\n",
    "\n",
    "    # when epoch begins update learning rate\n",
    "    def on_epoch_begin(self, epoch, logs={}):\n",
    "        # update learning rate\n",
    "        lr = self.cosine_annealing(epoch)\n",
    "        backend.set_value(self.model.optimizer.lr, lr)\n",
    "        # log value\n",
    "        self.lrs.append(lr)\n",
    "\n",
    "    # when epoch ends check if there is a need to save a snapshot\n",
    "    def on_epoch_end(self, epoch, logs={}):\n",
    "        if (epoch + 1) % self.n_epochs_per_model == 0:\n",
    "            # save model to file\n",
    "            filename = self.__snapshot_name_fmt % ((epoch + 1) // self.n_epochs_per_model)\n",
    "            self.model.save(filename)\n",
    "            if self.verbose:\n",
    "                print('Epoch %d: snapshot saved to %s' % (epoch, filename))\n",
    "                \n",
    "    def load_ensemble(self):\n",
    "        models = []\n",
    "        for i in range(self.n_models):\n",
    "            models.append(load_model(self.__snapshot_name_fmt % (i + 1)))\n",
    "        return models"
   ]
  },
  {
   "cell_type": "code",
   "execution_count": 43,
   "metadata": {},
   "outputs": [
    {
     "name": "stdout",
     "output_type": "stream",
     "text": [
      "Epoch 29: snapshot saved to snapshot_1.hdf5\n",
      "Epoch 59: snapshot saved to snapshot_2.hdf5\n",
      "Epoch 89: snapshot saved to snapshot_3.hdf5\n",
      "Epoch 119: snapshot saved to snapshot_4.hdf5\n",
      "Epoch 149: snapshot saved to snapshot_5.hdf5\n",
      "Epoch 179: snapshot saved to snapshot_6.hdf5\n",
      "Epoch 209: snapshot saved to snapshot_7.hdf5\n",
      "Epoch 239: snapshot saved to snapshot_8.hdf5\n",
      "Epoch 269: snapshot saved to snapshot_9.hdf5\n",
      "Epoch 299: snapshot saved to snapshot_10.hdf5\n"
     ]
    }
   ],
   "source": [
    "Ensembling = SnapshotEnsemble(n_models=10, n_epochs_per_model=30, lr_max=.01)\n",
    "model = create_model()\n",
    "history = model.fit(X_train_gridsearch, y_train, epochs=Ensembling.n_epochs_total, batch_size=30, verbose=0, callbacks = [Ensembling])"
   ]
  },
  {
   "cell_type": "code",
   "execution_count": 44,
   "metadata": {},
   "outputs": [
    {
     "data": {
      "image/png": "[encoded data removed]",
      "text/plain": [
       "<Figure size 1440x720 with 3 Axes>"
      ]
     },
     "metadata": {
      "needs_background": "light"
     },
     "output_type": "display_data"
    }
   ],
   "source": [
    "h = history.history\n",
    "plt.figure(1, figsize=(20, 10))\n",
    "\n",
    "plt.subplot(131)\n",
    "plt.xlabel('epoch')\n",
    "plt.ylabel('loss')\n",
    "plt.plot(h['loss'], label='training')\n",
    "plt.legend()\n",
    "\n",
    "plt.subplot(132)\n",
    "plt.xlabel('epoch')\n",
    "plt.ylabel('accuracy')\n",
    "plt.plot(h['accuracy'], label='training')\n",
    "# plt.plot(h['val_acc'], label='validation')\n",
    "plt.legend()\n",
    "\n",
    "plt.subplot(133)\n",
    "plt.xlabel('epoch')\n",
    "plt.ylabel('recall')\n",
    "plt.plot(h['recall'], label='training')\n",
    "plt.legend()\n",
    "\n",
    "plt.show()"
   ]
  },
  {
   "cell_type": "code",
   "execution_count": 45,
   "metadata": {},
   "outputs": [
    {
     "name": "stdout",
     "output_type": "stream",
     "text": [
      "28/28 [==============================] - 0s 3ms/step - loss: 0.2354 - accuracy: 0.8979 - recall_9: 0.8216\n",
      "28/28 [==============================] - 0s 2ms/step - loss: 0.2372 - accuracy: 0.8979 - recall_8: 0.8216\n",
      "28/28 [==============================] - 0s 2ms/step - loss: 0.2397 - accuracy: 0.8967 - recall_7: 0.8216\n",
      "28/28 [==============================] - 0s 1ms/step - loss: 0.2434 - accuracy: 0.8967 - recall_6: 0.8187\n",
      "28/28 [==============================] - 0s 2ms/step - loss: 0.2483 - accuracy: 0.8967 - recall_5: 0.8187\n",
      "28/28 [==============================] - 0s 2ms/step - loss: 0.2543 - accuracy: 0.8956 - recall_4: 0.8216\n",
      "28/28 [==============================] - 0s 2ms/step - loss: 0.2617 - accuracy: 0.8956 - recall_3: 0.8187\n",
      "28/28 [==============================] - 0s 1ms/step - loss: 0.2771 - accuracy: 0.8889 - recall_2: 0.8099\n",
      "28/28 [==============================] - 0s 2ms/step - loss: 0.2984 - accuracy: 0.8799 - recall_1: 0.8099\n",
      "28/28 [==============================] - 0s 3ms/step - loss: 0.3257 - accuracy: 0.8664 - recall: 0.7661\n"
     ]
    }
   ],
   "source": [
    "models = Ensembling.load_ensemble()\n",
    "members = list(reversed(models))\n",
    "for model in members:\n",
    "    score = model.evaluate(x = X_train_gridsearch, y = y_train)\n",
    "#     print(score)"
   ]
  },
  {
   "cell_type": "code",
   "execution_count": 46,
   "metadata": {},
   "outputs": [],
   "source": [
    "# make an ensemble prediction for multi-class classification\n",
    "def ensemble_predictions(members, testX, testY, treshhold):\n",
    "    # make predictions\n",
    "    yhats = [model.predict(testX) for model in members]\n",
    "    yhats = np.array(yhats)\n",
    "    # sum across ensemble members\n",
    "    summed = np.sum(yhats, axis=0)\n",
    "    # argmax across classes\n",
    "    result = (summed>treshhold).astype(int)\n",
    "    accuracy = roc_auc_score(testY, result)\n",
    "    return result, accuracy"
   ]
  },
  {
   "cell_type": "code",
   "execution_count": 47,
   "metadata": {},
   "outputs": [],
   "source": [
    "def evaluate_members(members, num_member):\n",
    "    accuracy = []\n",
    "    treshold = []\n",
    "    for tr in tqdm(np.arange(1, num_member+1, 0.5)):\n",
    "        res, acc = ensemble_predictions(members, X_train_gridsearch, y_train, tr)\n",
    "        accuracy.append(acc)\n",
    "        treshold.append(tr)\n",
    "    best_tr_id = np.argmax(accuracy)\n",
    "    best_tr_acc = accuracy[best_tr_id]\n",
    "    best_tr = treshold[best_tr_id]\n",
    "    return best_tr_acc, best_tr"
   ]
  },
  {
   "cell_type": "code",
   "execution_count": 48,
   "metadata": {},
   "outputs": [],
   "source": [
    "def get_test_predictions(members,num_member, testX, treshold):\n",
    "    \n",
    "    yhats = [model.predict(testX) for model in members[:num_member]]\n",
    "    yhats = np.array(yhats)\n",
    "    # sum across ensemble members\n",
    "    summed = np.sum(yhats, axis=0)\n",
    "    # argmax across classes\n",
    "    result = (summed>treshold).astype(int)\n",
    "    return result"
   ]
  },
  {
   "cell_type": "code",
   "execution_count": 49,
   "metadata": {},
   "outputs": [
    {
     "name": "stderr",
     "output_type": "stream",
     "text": [
      "100%|████████████████████████████████████████████| 4/4 [00:01<00:00,  3.32it/s]\n",
      "100%|████████████████████████████████████████████| 6/6 [00:03<00:00,  1.97it/s]\n",
      "100%|████████████████████████████████████████████| 8/8 [00:04<00:00,  1.94it/s]\n",
      "100%|██████████████████████████████████████████| 10/10 [00:06<00:00,  1.50it/s]\n",
      "100%|██████████████████████████████████████████| 12/12 [00:10<00:00,  1.20it/s]\n",
      "100%|██████████████████████████████████████████| 14/14 [00:13<00:00,  1.06it/s]\n",
      "100%|██████████████████████████████████████████| 16/16 [00:18<00:00,  1.17s/it]\n",
      "100%|██████████████████████████████████████████| 18/18 [00:22<00:00,  1.25s/it]\n",
      "100%|██████████████████████████████████████████| 20/20 [00:32<00:00,  1.64s/it]"
     ]
    },
    {
     "name": "stdout",
     "output_type": "stream",
     "text": [
      "3 0.8866599559006807 1.0\n"
     ]
    },
    {
     "name": "stderr",
     "output_type": "stream",
     "text": [
      "\n"
     ]
    }
   ],
   "source": [
    "scores = []\n",
    "tr = []\n",
    "for i in range(2, 11):\n",
    "    acc, best_tr = evaluate_members(members[:i], i)\n",
    "    scores.append(acc)\n",
    "    tr.append(best_tr)\n",
    "best_n_model = np.argmax(scores)+2\n",
    "best_treshhold = tr[np.argmax(scores)]\n",
    "best_acc = np.max(scores)\n",
    "\n",
    "print(best_n_model, best_acc, best_treshhold)"
   ]
  },
  {
   "cell_type": "code",
   "execution_count": 50,
   "metadata": {},
   "outputs": [
    {
     "data": {
      "text/html": [
       "<div>\n",
       "<style scoped>\n",
       "    .dataframe tbody tr th:only-of-type {\n",
       "        vertical-align: middle;\n",
       "    }\n",
       "\n",
       "    .dataframe tbody tr th {\n",
       "        vertical-align: top;\n",
       "    }\n",
       "\n",
       "    .dataframe thead th {\n",
       "        text-align: right;\n",
       "    }\n",
       "</style>\n",
       "<table border=\"1\" class=\"dataframe\">\n",
       "  <thead>\n",
       "    <tr style=\"text-align: right;\">\n",
       "      <th></th>\n",
       "      <th>PassengerId</th>\n",
       "      <th>Survived</th>\n",
       "    </tr>\n",
       "  </thead>\n",
       "  <tbody>\n",
       "    <tr>\n",
       "      <th>0</th>\n",
       "      <td>892</td>\n",
       "      <td>0</td>\n",
       "    </tr>\n",
       "    <tr>\n",
       "      <th>1</th>\n",
       "      <td>893</td>\n",
       "      <td>0</td>\n",
       "    </tr>\n",
       "    <tr>\n",
       "      <th>2</th>\n",
       "      <td>894</td>\n",
       "      <td>0</td>\n",
       "    </tr>\n",
       "    <tr>\n",
       "      <th>3</th>\n",
       "      <td>895</td>\n",
       "      <td>0</td>\n",
       "    </tr>\n",
       "    <tr>\n",
       "      <th>4</th>\n",
       "      <td>896</td>\n",
       "      <td>1</td>\n",
       "    </tr>\n",
       "  </tbody>\n",
       "</table>\n",
       "</div>"
      ],
      "text/plain": [
       "   PassengerId  Survived\n",
       "0          892         0\n",
       "1          893         0\n",
       "2          894         0\n",
       "3          895         0\n",
       "4          896         1"
      ]
     },
     "execution_count": 50,
     "metadata": {},
     "output_type": "execute_result"
    }
   ],
   "source": [
    "submission = pd.DataFrame({\n",
    "        \"PassengerId\": test[\"PassengerId\"],\n",
    "        \"Survived\": get_test_predictions(members, best_n_model, X_test_gridsearch, best_treshhold).squeeze()\n",
    "    })\n",
    "submission.head()"
   ]
  },
  {
   "cell_type": "code",
   "execution_count": 51,
   "metadata": {},
   "outputs": [],
   "source": [
    "submission.to_csv('submissions/submission_Keras_8.csv', index=False)"
   ]
  },
  {
   "cell_type": "code",
   "execution_count": null,
   "metadata": {},
   "outputs": [],
   "source": []
  }
 ],
 "metadata": {
  "kernelspec": {
   "display_name": "Python 3",
   "language": "python",
   "name": "python3"
  },
  "language_info": {
   "codemirror_mode": {
    "name": "ipython",
    "version": 3
   },
   "file_extension": ".py",
   "mimetype": "text/x-python",
   "name": "python",
   "nbconvert_exporter": "python",
   "pygments_lexer": "ipython3",
   "version": "3.8.3"
  }
 },
 "nbformat": 4,
 "nbformat_minor": 4
}
